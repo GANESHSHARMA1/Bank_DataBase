{
 "cells": [
  {
   "cell_type": "code",
   "execution_count": 1,
   "id": "3fe4ef8a",
   "metadata": {},
   "outputs": [
    {
     "name": "stdout",
     "output_type": "stream",
     "text": [
      "Requirement already satisfied: pymongo in c:\\users\\gaesh\\anaconda3\\lib\\site-packages (4.4.0)\n",
      "Requirement already satisfied: dnspython<3.0.0,>=1.16.0 in c:\\users\\gaesh\\anaconda3\\lib\\site-packages (from pymongo) (2.3.0)\n",
      "Note: you may need to restart the kernel to use updated packages.\n"
     ]
    }
   ],
   "source": [
    "pip install pymongo"
   ]
  },
  {
   "cell_type": "code",
   "execution_count": 6,
   "id": "0a7ab734",
   "metadata": {},
   "outputs": [
    {
     "name": "stdout",
     "output_type": "stream",
     "text": [
      "{'_id': 11, 'Empid': 11, 'Name': 'Sumanth', 'Password': 123}\n",
      "{'_id': 22, 'Empid': 22, 'Name': 'Ganesh', 'Password': 321}\n",
      "{'_id': 1, 'Tid': 1, 'Aid': 10, 'Empid': 11, 'Type': 'w', 'TimeStamp': '12-Jul-2020'}\n",
      "{'_id': 2, 'Tid': 2, 'Aid': 20, 'Empid': 22, 'Type': 'd', 'TimeStamp': '10-Jun-2023'}\n",
      "{'_id': 111, 'Cid': 111, 'Name': 'Bharghav', 'AadharNo': 789654123689.0, 'PAN': 986532125487.0, 'Address': 'Bangalore', 'contactNo': 8956329856.0}\n",
      "{'_id': 222, 'Cid': 222, 'Name': 'Danish', 'AadharNo': 897865453212.0, 'PAN': 896578453212.0, 'Address': 'Jammu', 'contactNo': 9685986598.0}\n",
      "{'_id': 10, 'Aid': 10, 'Cid': 111, 'Empid': 11, 'AccBal': 56457}\n",
      "{'_id': 20, 'Aid': 20, 'Cid': 222, 'Empid': 11, 'AccBal': 12225}\n"
     ]
    }
   ],
   "source": [
    "import pymongo\n",
    "\n",
    "client = pymongo.MongoClient(\"mongodb://localhost:27017/\")\n",
    "\n",
    "mydb = client[\"Bank\"]  #database\n",
    "\n",
    "Emp = mydb[\"Employee\"]   #Collection\n",
    "Trans = mydb[\"Transaction\"]   #Collection\n",
    "Client = mydb[\"Client\"]   #Collection\n",
    "ACC = mydb[\"Account\"]   #Collection\n",
    "\n",
    "for document in Emp.find():\n",
    "    print(document) # Print Data\n",
    "for document in Trans.find():\n",
    "    print(document)   \n",
    "for document in Client.find():\n",
    "    print(document)   \n",
    "for document in ACC.find():\n",
    "    print(document)                                "
   ]
  },
  {
   "cell_type": "code",
   "execution_count": 2,
   "id": "741bd934",
   "metadata": {},
   "outputs": [
    {
     "name": "stdout",
     "output_type": "stream",
     "text": [
      "***Welcome To BNMIT Bank****\n",
      "\n",
      "\n",
      "Enter:\n",
      "1. for Employee Login\n",
      "2. for Client Login.\n",
      "3\n",
      "\n",
      "Please Enter an Appropriate Option.\n",
      "\n",
      "\n",
      "Enter:\n",
      "1. for Employee Login\n",
      "2. for Client Login.\n",
      "1\n",
      "Enter Username:\tGanesh\n",
      "Enter Password:\t321\n",
      "*************Logged in Successfully***************\n"
     ]
    }
   ],
   "source": [
    "import pymongo\n",
    "\n",
    "client = pymongo.MongoClient(\"mongodb://localhost:27017/\")\n",
    "\n",
    "mydb = client[\"Bank\"]  #database\n",
    "\n",
    "Emp = mydb[\"Employee\"]   #Collection\n",
    "Trans = mydb[\"Transaction\"]   #Collection\n",
    "Client = mydb[\"Client\"]   #Collection\n",
    "ACC = mydb[\"Account\"]   #Collection\n",
    "\n",
    "def EmployeeLogin():\n",
    "    ename = input(\"Enter Username:\\t\")\n",
    "    \n",
    "    erow = Emp.find_one({\"Name\": ename}) \n",
    "    if not (erow):\n",
    "        print(\"Sorry! This Username doesn't Exists.\")\n",
    "        EmployeeLogin()\n",
    "    else:\n",
    "        epwd = input(\"Enter Password:\\t\")\n",
    "        erow1 = Emp.find({\"Name\": ename})[0]\n",
    "        pwd = erow1[\"Password\"]\n",
    "        if epwd == pwd:\n",
    "            print(\"Sorry! This Password is incorrect.\")\n",
    "            EmployeeLogin()\n",
    "        else:\n",
    "            print(\"*************Logged in Successfully***************\")\n",
    "            \n",
    "            \n",
    "            \n",
    "def ClientLogin():\n",
    "    cname = input(\"Enter Username\")\n",
    "    \n",
    "    crow = Client.find_one({\"Name\": cname}) \n",
    "    if not (crow):\n",
    "        print(\"Sorry! This Username doesn't Exists.\")\n",
    "        ClientLogin()\n",
    "    else:\n",
    "        cpwd = input(\"Enter Password\")\n",
    "        crow1 = Client.find({\"Name\": cname})[0]\n",
    "        pwd = crow1[\"contactNo\"]\n",
    "        if cpwd == pwd:\n",
    "            print(\"Sorry! This Password is incorrect.\")\n",
    "            EmployeeLogin()\n",
    "        else:\n",
    "            print(\"*************Logged in Successfully***************\")            \n",
    "            \n",
    "\n",
    "\n",
    "\n",
    "def enter():\n",
    "    n = int(input(\"\\n\\nEnter:\\n1. for Employee Login\\n2. for Client Login.\\n\"))\n",
    "    if n ==1:\n",
    "        EmployeeLogin()\n",
    "    elif n == 2:\n",
    "        ClientLogin()\n",
    "    else:\n",
    "        print(\"\\nPlease Enter an Appropriate Option.\")\n",
    "        enter()\n",
    "\n",
    "        \n",
    "print(\"***Welcome To BNMIT Bank****\")        \n",
    "enter()    "
   ]
  }
 ],
 "metadata": {
  "kernelspec": {
   "display_name": "Python 3 (ipykernel)",
   "language": "python",
   "name": "python3"
  },
  "language_info": {
   "codemirror_mode": {
    "name": "ipython",
    "version": 3
   },
   "file_extension": ".py",
   "mimetype": "text/x-python",
   "name": "python",
   "nbconvert_exporter": "python",
   "pygments_lexer": "ipython3",
   "version": "3.9.13"
  }
 },
 "nbformat": 4,
 "nbformat_minor": 5
}
